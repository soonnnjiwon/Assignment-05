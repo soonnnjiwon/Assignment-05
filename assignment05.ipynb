{
 "cells": [
  {
   "cell_type": "markdown",
   "id": "235a7115",
   "metadata": {},
   "source": [
    "## 3번"
   ]
  },
  {
   "cell_type": "code",
   "execution_count": 1,
   "id": "13623d94",
   "metadata": {},
   "outputs": [
    {
     "name": "stdout",
     "output_type": "stream",
     "text": [
      "생일이 가장 늦은 10명의 친구:\n",
      "홍서연 (20241282)\n",
      "신수민 (20051230)\n",
      "이서영 (20051225)\n",
      "강민주 (20051214)\n",
      "김민경 (20051202)\n",
      "이서영 (20051112)\n",
      "배시은 (20051102)\n",
      "김여원 (20051031)\n",
      "이서진 (20051028)\n",
      "서홍빈 (20051024)\n"
     ]
    }
   ],
   "source": [
    "\n",
    "import csv\n",
    "\n",
    "class Heap:\n",
    "    def __init__(self, *args):\n",
    "        if len(args) != 0:\n",
    "            self.__A = args[0]\n",
    "        else:\n",
    "            self.__A = []\n",
    "\n",
    "    def insert(self, x):\n",
    "        self.__A.append(x)\n",
    "        self.__percolateUp(len(self.__A) - 1)\n",
    "\n",
    "    def __percolateUp(self, i: int):\n",
    "        parent = (i - 1) // 2\n",
    "        if i > 0 and self.__A[i] > self.__A[parent]:\n",
    "            self.__A[i], self.__A[parent] = self.__A[parent], self.__A[i]\n",
    "            self.__percolateUp(parent)\n",
    "\n",
    "    def deleteMax(self):\n",
    "        if not self.isEmpty():\n",
    "            max = self.__A[0]\n",
    "            self.__A[0] = self.__A.pop()\n",
    "            self.__percolateDown(0)\n",
    "            return max\n",
    "        else:\n",
    "            return None\n",
    "\n",
    "    def __percolateDown(self, i: int):\n",
    "        child = 2 * i + 1\n",
    "        right = 2 * i + 2\n",
    "        if child <= len(self.__A) - 1:\n",
    "            if right <= len(self.__A) - 1 and self.__A[child] < self.__A[right]:\n",
    "                child = right\n",
    "            if self.__A[i] < self.__A[child]:\n",
    "                self.__A[i], self.__A[child] = self.__A[child], self.__A[i]\n",
    "                self.__percolateDown(child)\n",
    "\n",
    "    def isEmpty(self) -> bool:\n",
    "        return len(self.__A) == 0\n",
    "\n",
    "heap = Heap()\n",
    "with open(\"birthday.csv\", encoding=\"utf-8\") as f:\n",
    "    reader = csv.DictReader(f)\n",
    "    reader.fieldnames = [col.strip() for col in reader.fieldnames]\n",
    "    for row in reader:\n",
    "        try:\n",
    "            name = row['이름'].strip()\n",
    "            birth = int(str(row['생년월일8자리(예.20040101)']).strip().replace(\".0\", \"\"))\n",
    "            heap.insert((birth, name))\n",
    "        except:\n",
    "            continue\n",
    "\n",
    "print(\"생일이 가장 늦은 10명의 친구:\")\n",
    "for _ in range(10):\n",
    "    if not heap.isEmpty():\n",
    "        birth, name = heap.deleteMax()\n",
    "        print(f\"{name} ({birth})\")\n"
   ]
  },
  {
   "cell_type": "markdown",
   "id": "27f6e203",
   "metadata": {},
   "source": [
    "## 4번\n"
   ]
  },
  {
   "cell_type": "code",
   "execution_count": 5,
   "id": "4e2788ca",
   "metadata": {},
   "outputs": [
    {
     "name": "stdout",
     "output_type": "stream",
     "text": [
      "조원들의 이름과 생년월일:\n",
      "강민주 (20051214)\n",
      "김나현 (20040203)\n",
      "김민주 (20040517)\n",
      "김민주 (20041026)\n",
      "김시연 (20030910)\n",
      "김채현 (20040409)\n",
      "나주희 (20041104)\n",
      "두경은 (20041105)\n",
      "민고은 (20050214)\n",
      "박지호 (20040728)\n",
      "손지원 (20050620)\n",
      "안정민 (20040501)\n",
      "여지혜 (20051009)\n",
      "윤혜진 (20050517)\n",
      "이서영 (20051112)\n",
      "이서영 (20051225)\n",
      "이유빈 (20050601)\n"
     ]
    }
   ],
   "source": [
    "\n",
    "class BidirectNode:\n",
    "    def __init__(self, item, prev=None, next=None):\n",
    "        self.item = item\n",
    "        self.prev = prev\n",
    "        self.next = next\n",
    "\n",
    "class CircularDoublyLinkedList:\n",
    "    def __init__(self):\n",
    "        self.__head = BidirectNode(\"dummy\", None, None)\n",
    "        self.__head.prev = self.__head\n",
    "        self.__head.next = self.__head\n",
    "        self.__numItems = 0\n",
    "\n",
    "    def append(self, newItem) -> None:\n",
    "        prev = self.__head.prev\n",
    "        newNode = BidirectNode(newItem, prev, self.__head)\n",
    "        prev.next = newNode\n",
    "        self.__head.prev = newNode\n",
    "        self.__numItems += 1\n",
    "\n",
    "    def getNode(self, i: int) -> BidirectNode:\n",
    "        curr = self.__head\n",
    "        for _ in range(i + 1):\n",
    "            curr = curr.next\n",
    "        return curr\n",
    "\n",
    "    def __iter__(self):\n",
    "        return CircularDoublyLinkedListIterator(self)\n",
    "\n",
    "class CircularDoublyLinkedListIterator:\n",
    "    def __init__(self, alist):\n",
    "        self.__head = alist.getNode(-1)\n",
    "        self.iterPosition = self.__head.next\n",
    "    def __next__(self):\n",
    "        if self.iterPosition == self.__head:\n",
    "            raise StopIteration\n",
    "        item = self.iterPosition.item\n",
    "        self.iterPosition = self.iterPosition.next\n",
    "        return item\n",
    "    def __iter__(self):\n",
    "        return self\n",
    "\n",
    "teammates = [\n",
    "    (\"20241213\", \"박지호\"), (\"20230853\", \"나주희\"), (\"20241199\", \"김채현\"),\n",
    "    (\"20241209\", \"민고은\"), (\"20241173\", \"김나현\"), (\"20241241\", \"이서영\"),\n",
    "    (\"20241227\", \"안정민\"), (\"20241220\", \"손지원\"), (\"20241169\", \"강민주\"),\n",
    "    (\"20241180\", \"김민주\"), (\"20241237\", \"윤혜진\"), (\"20230839\", \"김시연\"),\n",
    "    (\"20241229\", \"여지혜\"), (\"20241206\", \"두경은\"), (\"20241254\", \"이유빈\"),\n",
    "]\n",
    "teammate_names = {name for _, name in teammates}\n",
    "\n",
    "birth_list = CircularDoublyLinkedList()\n",
    "with open(\"birthday.csv\", encoding=\"utf-8\") as f:\n",
    "    reader = csv.DictReader(f)\n",
    "    reader.fieldnames = [col.strip() for col in reader.fieldnames]\n",
    "    for row in reader:\n",
    "        try:\n",
    "            name = row[\"이름\"].strip()\n",
    "            if name in teammate_names:\n",
    "                birth = int(str(row[\"생년월일8자리(예.20040101)\"]).strip().replace(\".0\", \"\"))\n",
    "                birth_list.append((name, birth))\n",
    "        except:\n",
    "            continue\n",
    "\n",
    "print(\"조원들의 이름과 생년월일:\")\n",
    "for name, birth in birth_list:\n",
    "    print(f\"{name} ({birth})\")\n"
   ]
  },
  {
   "cell_type": "markdown",
   "id": "5260db0b",
   "metadata": {},
   "source": [
    "## 5번\n"
   ]
  },
  {
   "cell_type": "markdown",
   "id": "8928788d",
   "metadata": {},
   "source": [
    "1. 아니요. 최대 힙에서 루트에 있는 원소가 가장 크지만, 그보다 깊은 곳(왼쪽/오른쪽 서브트리)에 있는 원소는 루트보다 항상 작아야 하므로 더 큰 값을 가질 수 없습니다."
   ]
  },
  {
   "cell_type": "markdown",
   "id": "e42bcdae",
   "metadata": {},
   "source": [
    "2. A[0]은 항상 최대값이지만, A[n-1]은 항상 최소값이 아닙니다."
   ]
  },
  {
   "cell_type": "markdown",
   "id": "4f37dc39",
   "metadata": {},
   "source": [
    "3. 총 n개의 원소 중 루트의 자식으로 스며내리기를 하지 않고 넘어가는 원소(리프 노드)는 약 ⌊n/2⌋개입니다."
   ]
  },
  {
   "cell_type": "markdown",
   "id": "2b1a3ec0",
   "metadata": {},
   "source": [
    "4. 최악의 경우 시간은 Θ(n log n), 최선의 경우 시간은 Θ(n)입니다."
   ]
  },
  {
   "cell_type": "markdown",
   "id": "83d54477",
   "metadata": {},
   "source": [
    "5. delete 연산은 O(log n)의 시간복잡도를 가집니다."
   ]
  },
  {
   "cell_type": "markdown",
   "id": "aa34e742",
   "metadata": {},
   "source": [
    "6. 힙을 위에서부터 만드는 방식보다 아래에서 위로 만드는 방식이 더 효율적입니다."
   ]
  },
  {
   "cell_type": "markdown",
   "id": "4216d70c",
   "metadata": {},
   "source": [
    "7. 삽입 시 스며올리기(percolate up)를 통해 O(log n) 시간에 힙 성질을 유지할 수 있습니다."
   ]
  },
  {
   "cell_type": "markdown",
   "id": "2a15b7f4",
   "metadata": {},
   "source": [
    "## 6번\n"
   ]
  },
  {
   "cell_type": "code",
   "execution_count": 1,
   "id": "80b3b755",
   "metadata": {},
   "outputs": [
    {
     "name": "stdout",
     "output_type": "stream",
     "text": [
      "4\n",
      "5\n",
      "5\n",
      "8\n",
      "8\n"
     ]
    }
   ],
   "source": [
    "\n",
    "import heapq\n",
    "\n",
    "class KthLargest:\n",
    "    def __init__(self, k: int, nums: list[int]):\n",
    "        self.k = k\n",
    "        self.min_heap = nums\n",
    "        heapq.heapify(self.min_heap)\n",
    "        while len(self.min_heap) > k:\n",
    "            heapq.heappop(self.min_heap)\n",
    "\n",
    "    def add(self, val: int) -> int:\n",
    "        heapq.heappush(self.min_heap, val)\n",
    "        if len(self.min_heap) > self.k:\n",
    "            heapq.heappop(self.min_heap)\n",
    "        return self.min_heap[0]\n",
    "\n",
    "k = 3\n",
    "nums = [4, 5, 8, 2]\n",
    "kthLargest = KthLargest(k, nums)\n",
    "print(kthLargest.add(3))  # 4\n",
    "print(kthLargest.add(5))  # 5\n",
    "print(kthLargest.add(10)) # 5\n",
    "print(kthLargest.add(9))  # 8\n",
    "print(kthLargest.add(4))  # 8\n"
   ]
  },
  {
   "cell_type": "code",
   "execution_count": null,
   "id": "cd16d0ea-ad30-4e49-868b-a1ef8599fb3f",
   "metadata": {},
   "outputs": [],
   "source": []
  }
 ],
 "metadata": {
  "kernelspec": {
   "display_name": "Python [conda env:base] *",
   "language": "python",
   "name": "conda-base-py"
  },
  "language_info": {
   "codemirror_mode": {
    "name": "ipython",
    "version": 3
   },
   "file_extension": ".py",
   "mimetype": "text/x-python",
   "name": "python",
   "nbconvert_exporter": "python",
   "pygments_lexer": "ipython3",
   "version": "3.12.7"
  }
 },
 "nbformat": 4,
 "nbformat_minor": 5
}
