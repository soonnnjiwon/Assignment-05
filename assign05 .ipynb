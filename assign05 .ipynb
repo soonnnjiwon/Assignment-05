{
 "cells": [
  {
   "cell_type": "markdown",
   "id": "d8834958",
   "metadata": {},
   "source": [
    "**3번**"
   ]
  },
  {
   "cell_type": "code",
   "execution_count": 21,
   "id": "4e698998",
   "metadata": {},
   "outputs": [
    {
     "name": "stdout",
     "output_type": "stream",
     "text": [
      "홍서연 (20241282)\n",
      "신수민 (20051230)\n",
      "이서영 (20051225)\n",
      "강민주 (20051214)\n",
      "김민경 (20051202)\n",
      "이서영 (20051112)\n",
      "배시은 (20051102)\n",
      "김여원 (20051031)\n",
      "이서진 (20051028)\n",
      "서홍빈 (20051024)\n"
     ]
    }
   ],
   "source": [
    "import csv\n",
    "import heapq\n",
    "\n",
    "file_path = \"birthday.csv\"\n",
    "birthday_heap = []\n",
    "\n",
    "# birthday.csv 열기 및 생일 힙 구성\n",
    "with open(file_path, encoding=\"utf-8\") as f:\n",
    "    reader = csv.DictReader(f)\n",
    "    \n",
    "    # 열 이름 공백 제거\n",
    "    reader.fieldnames = [col.strip() for col in reader.fieldnames]\n",
    "    \n",
    "    for row in reader:\n",
    "        try:\n",
    "            name = row['이름'].strip()\n",
    "            birth = int(row['생년월일8자리(예.20040101)'].strip())\n",
    "            heapq.heappush(birthday_heap, (-birth, name))\n",
    "        except:\n",
    "            continue  # 생년월일이 비어있거나 잘못된 경우 무시\n",
    "\n",
    "# 생일이 가장 늦은 10명 출력\n",
    "for _ in range(10):\n",
    "    if birthday_heap:\n",
    "        birth, name = heapq.heappop(birthday_heap)\n",
    "        print(f\"{name} ({-birth})\")\n",
    "\n"
   ]
  },
  {
   "cell_type": "markdown",
   "id": "2bfb3f7b",
   "metadata": {},
   "source": [
    "**4번**"
   ]
  },
  {
   "cell_type": "code",
   "execution_count": 23,
   "id": "e899a893",
   "metadata": {},
   "outputs": [
    {
     "name": "stdout",
     "output_type": "stream",
     "text": [
      "조원들의 이름과 생년월일:\n",
      "박지호 (20241213)\n",
      "나주희 (20230853)\n",
      "김채현 (20241199)\n",
      "민고은 (20241209)\n",
      "김나현 (20241173)\n",
      "이서영 (20241241)\n",
      "안정민 (20241227)\n",
      "손지원 (20241220)\n",
      "강민주 (20241169)\n",
      "김민주 (20241180)\n",
      "윤혜진 (20241237)\n",
      "김시연 (20230839)\n",
      "여지혜 (20241229)\n",
      "두경은 (20241206)\n",
      "이유빈 (20241254)\n"
     ]
    }
   ],
   "source": [
    "\n",
    "class Node:\n",
    "    def __init__(self, name, birth):\n",
    "        self.name = name\n",
    "        self.birth = birth\n",
    "        self.prev = None\n",
    "        self.next = None\n",
    "\n",
    "class CircularDoublyLinkedList:\n",
    "    def __init__(self):\n",
    "        self.head = None\n",
    "\n",
    "    def append(self, name, birth):\n",
    "        new_node = Node(name, birth)\n",
    "        if not self.head:\n",
    "            self.head = new_node\n",
    "            self.head.next = self.head\n",
    "            self.head.prev = self.head\n",
    "        else:\n",
    "            tail = self.head.prev\n",
    "            tail.next = new_node\n",
    "            new_node.prev = tail\n",
    "            new_node.next = self.head\n",
    "            self.head.prev = new_node\n",
    "\n",
    "    def display_all(self):\n",
    "        result = []\n",
    "        if not self.head:\n",
    "            return result\n",
    "        current = self.head\n",
    "        while True:\n",
    "            result.append((current.name, current.birth))\n",
    "            current = current.next\n",
    "            if current == self.head:\n",
    "                break\n",
    "        return result\n",
    "\n",
    "teammates = [\n",
    "    (\"20241213\", \"박지호\"), (\"20230853\", \"나주희\"), (\"20241199\", \"김채현\"),\n",
    "    (\"20241209\", \"민고은\"), (\"20241173\", \"김나현\"), (\"20241241\", \"이서영\"),\n",
    "    (\"20241227\", \"안정민\"), (\"20241220\", \"손지원\"), (\"20241169\", \"강민주\"),\n",
    "    (\"20241180\", \"김민주\"), (\"20241237\", \"윤혜진\"), (\"20230839\", \"김시연\"),\n",
    "    (\"20241229\", \"여지혜\"), (\"20241206\", \"두경은\"), (\"20241254\", \"이유빈\"),\n",
    "]\n",
    "\n",
    "cdll = CircularDoublyLinkedList()\n",
    "for birth, name in teammates:\n",
    "    cdll.append(name, birth)\n",
    "\n",
    "print(\"조원들의 이름과 생년월일:\")\n",
    "for name, birth in cdll.display_all():\n",
    "    print(f\"{name} ({birth})\")\n"
   ]
  },
  {
   "cell_type": "markdown",
   "id": "d4cd4e65",
   "metadata": {},
   "source": [
    "**5번**"
   ]
  },
  {
   "cell_type": "markdown",
   "id": "8961eb91",
   "metadata": {},
   "source": [
    "1. 아니요. 최대 힙에서 루트에 있는 원소가 가장 크지만, 그보다 깊은 곳(왼쪽/오른쪽 서브트리)에 있는 원소는 루트보다 항상 작아야 하므로 더 큰 값을 가질 수 없습니다."
   ]
  },
  {
   "cell_type": "markdown",
   "id": "3cedb27f",
   "metadata": {},
   "source": [
    "2. A[0]은 항상 최대값이지만, A[n-1]은 항상 최소값이 아닙니다. A[n-1]은 힙의 구조상 가장 마지막 위치에 있는 원소일 뿐이며, 값의 크기와는 무관합니다."
   ]
  },
  {
   "cell_type": "markdown",
   "id": "d87d2349",
   "metadata": {},
   "source": [
    "3. 총 n개의 원소 중 루트의 자식으로 스며내리기를 하지 않고 넘어가는 원소(리프 노드)는 약 ⌊n/2⌋개입니다."
   ]
  },
  {
   "cell_type": "markdown",
   "id": "ae138877",
   "metadata": {},
   "source": [
    "4. 최악의 경우 시간은 Θ(n log n), 최선의 경우 시간은 Θ(n)입니다."
   ]
  },
  {
   "cell_type": "markdown",
   "id": "d61b52a7",
   "metadata": {},
   "source": [
    "5. 힙의 상태에서 루트 원소를 삭제하면 루트 자리를 마지막 원소로 채우고 스며내리기를 반복해야 하므로, 루트부터 시작하는 delete 연산은 O(log n)의 시간복잡도를 가집니다."
   ]
  },
  {
   "cell_type": "markdown",
   "id": "2ea8b154",
   "metadata": {},
   "source": [
    "6. 위쪽에서부터 시작해도 힙은 만들어지지만, 효율적이지 않습니다. 접근적 시간 측면에서 아래에서 위로 내려가며 스며내리기를 수행하는 것이 더 효율적입니다."
   ]
  },
  {
   "cell_type": "markdown",
   "id": "538e9664",
   "metadata": {},
   "source": [
    "7. 삽입한 원소를 힙의 마지막에 위치시키고, 부모 노드와 비교하며 위로 올라가는 방식(스며올리기, percolate up)을 사용하면 O(log n) 시간에 최대 힙의 성질을 유지할 수 있습니다."
   ]
  },
  {
   "cell_type": "markdown",
   "id": "b9dfe863",
   "metadata": {},
   "source": [
    "**6번**"
   ]
  },
  {
   "cell_type": "code",
   "execution_count": null,
   "id": "a6e1994e",
   "metadata": {},
   "outputs": [],
   "source": [
    "\n",
    "import heapq\n",
    "\n",
    "class KthLargest:\n",
    "\n",
    "    def __init__(self, k: int, nums: list[int]):\n",
    "        self.k = k\n",
    "        self.min_heap = nums\n",
    "        heapq.heapify(self.min_heap)\n",
    "\n",
    "        while len(self.min_heap) > k:\n",
    "            heapq.heappop(self.min_heap)\n",
    "\n",
    "    def add(self, val: int) -> int:\n",
    "        heapq.heappush(self.min_heap, val)\n",
    "        if len(self.min_heap) > self.k:\n",
    "            heapq.heappop(self.min_heap)\n",
    "        return self.min_heap[0]\n",
    "\n",
    "# 테스트\n",
    "k = 3\n",
    "nums = [4, 5, 8, 2]\n",
    "kthLargest = KthLargest(k, nums)\n",
    "print(kthLargest.add(3))  # 4\n",
    "print(kthLargest.add(5))  # 5\n",
    "print(kthLargest.add(10)) # 5\n",
    "print(kthLargest.add(9))  # 8\n",
    "print(kthLargest.add(4))  # 8\n"
   ]
  }
 ],
 "metadata": {
  "kernelspec": {
   "display_name": "Python [conda env:base] *",
   "language": "python",
   "name": "conda-base-py"
  },
  "language_info": {
   "codemirror_mode": {
    "name": "ipython",
    "version": 3
   },
   "file_extension": ".py",
   "mimetype": "text/x-python",
   "name": "python",
   "nbconvert_exporter": "python",
   "pygments_lexer": "ipython3",
   "version": "3.12.7"
  }
 },
 "nbformat": 4,
 "nbformat_minor": 5
}
